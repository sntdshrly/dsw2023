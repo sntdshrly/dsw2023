{
 "cells": [
  {
   "cell_type": "markdown",
   "metadata": {},
   "source": [
    "# Predict CLTV"
   ]
  },
  {
   "cell_type": "markdown",
   "metadata": {},
   "source": [
    "## Data Understanding & Cleaning"
   ]
  },
  {
   "cell_type": "markdown",
   "metadata": {},
   "source": [
    "### Import Library"
   ]
  },
  {
   "cell_type": "code",
   "execution_count": 85,
   "metadata": {},
   "outputs": [],
   "source": [
    "import pandas as pd\n",
    "import matplotlib.pyplot as plt\n",
    "import numpy as np\n",
    "import seaborn as sns"
   ]
  },
  {
   "cell_type": "markdown",
   "metadata": {},
   "source": [
    "### Data Understanding"
   ]
  },
  {
   "cell_type": "code",
   "execution_count": 86,
   "metadata": {},
   "outputs": [
    {
     "data": {
      "text/html": [
       "<div>\n",
       "<style scoped>\n",
       "    .dataframe tbody tr th:only-of-type {\n",
       "        vertical-align: middle;\n",
       "    }\n",
       "\n",
       "    .dataframe tbody tr th {\n",
       "        vertical-align: top;\n",
       "    }\n",
       "\n",
       "    .dataframe thead th {\n",
       "        text-align: right;\n",
       "    }\n",
       "</style>\n",
       "<table border=\"1\" class=\"dataframe\">\n",
       "  <thead>\n",
       "    <tr style=\"text-align: right;\">\n",
       "      <th></th>\n",
       "      <th>Customer ID</th>\n",
       "      <th>Tenure Months</th>\n",
       "      <th>Location</th>\n",
       "      <th>Device Class</th>\n",
       "      <th>Games Product</th>\n",
       "      <th>Music Product</th>\n",
       "      <th>Education Product</th>\n",
       "      <th>Call Center</th>\n",
       "      <th>Video Product</th>\n",
       "      <th>Use MyApp</th>\n",
       "      <th>Payment Method</th>\n",
       "      <th>Monthly Purchase (Thou. IDR)</th>\n",
       "      <th>Churn Label</th>\n",
       "      <th>Longitude</th>\n",
       "      <th>Latitude</th>\n",
       "      <th>CLTV (Predicted Thou. IDR)</th>\n",
       "    </tr>\n",
       "  </thead>\n",
       "  <tbody>\n",
       "    <tr>\n",
       "      <th>0</th>\n",
       "      <td>0</td>\n",
       "      <td>2</td>\n",
       "      <td>Jakarta</td>\n",
       "      <td>Mid End</td>\n",
       "      <td>Yes</td>\n",
       "      <td>Yes</td>\n",
       "      <td>No</td>\n",
       "      <td>No</td>\n",
       "      <td>No</td>\n",
       "      <td>No</td>\n",
       "      <td>Digital Wallet</td>\n",
       "      <td>70,005</td>\n",
       "      <td>Yes</td>\n",
       "      <td>106,81667</td>\n",
       "      <td>-6,20000</td>\n",
       "      <td>4210,7</td>\n",
       "    </tr>\n",
       "    <tr>\n",
       "      <th>1</th>\n",
       "      <td>1</td>\n",
       "      <td>2</td>\n",
       "      <td>Jakarta</td>\n",
       "      <td>High End</td>\n",
       "      <td>No</td>\n",
       "      <td>No</td>\n",
       "      <td>No</td>\n",
       "      <td>No</td>\n",
       "      <td>No</td>\n",
       "      <td>No</td>\n",
       "      <td>Pulsa</td>\n",
       "      <td>91,91</td>\n",
       "      <td>Yes</td>\n",
       "      <td>106,81667</td>\n",
       "      <td>-6,20000</td>\n",
       "      <td>3511,3</td>\n",
       "    </tr>\n",
       "    <tr>\n",
       "      <th>2</th>\n",
       "      <td>2</td>\n",
       "      <td>8</td>\n",
       "      <td>Jakarta</td>\n",
       "      <td>High End</td>\n",
       "      <td>No</td>\n",
       "      <td>No</td>\n",
       "      <td>Yes</td>\n",
       "      <td>No</td>\n",
       "      <td>Yes</td>\n",
       "      <td>Yes</td>\n",
       "      <td>Pulsa</td>\n",
       "      <td>129,545</td>\n",
       "      <td>Yes</td>\n",
       "      <td>106,81667</td>\n",
       "      <td>-6,20000</td>\n",
       "      <td>6983,6</td>\n",
       "    </tr>\n",
       "    <tr>\n",
       "      <th>3</th>\n",
       "      <td>3</td>\n",
       "      <td>28</td>\n",
       "      <td>Jakarta</td>\n",
       "      <td>High End</td>\n",
       "      <td>No</td>\n",
       "      <td>No</td>\n",
       "      <td>Yes</td>\n",
       "      <td>Yes</td>\n",
       "      <td>Yes</td>\n",
       "      <td>Yes</td>\n",
       "      <td>Pulsa</td>\n",
       "      <td>136,24</td>\n",
       "      <td>Yes</td>\n",
       "      <td>106,81667</td>\n",
       "      <td>-6,20000</td>\n",
       "      <td>6503,9</td>\n",
       "    </tr>\n",
       "    <tr>\n",
       "      <th>4</th>\n",
       "      <td>4</td>\n",
       "      <td>49</td>\n",
       "      <td>Jakarta</td>\n",
       "      <td>High End</td>\n",
       "      <td>No</td>\n",
       "      <td>Yes</td>\n",
       "      <td>Yes</td>\n",
       "      <td>No</td>\n",
       "      <td>Yes</td>\n",
       "      <td>Yes</td>\n",
       "      <td>Debit</td>\n",
       "      <td>134,81</td>\n",
       "      <td>Yes</td>\n",
       "      <td>106,81667</td>\n",
       "      <td>-6,20000</td>\n",
       "      <td>6942</td>\n",
       "    </tr>\n",
       "  </tbody>\n",
       "</table>\n",
       "</div>"
      ],
      "text/plain": [
       "   Customer ID  Tenure Months Location Device Class Games Product  \\\n",
       "0            0              2  Jakarta      Mid End           Yes   \n",
       "1            1              2  Jakarta     High End            No   \n",
       "2            2              8  Jakarta     High End            No   \n",
       "3            3             28  Jakarta     High End            No   \n",
       "4            4             49  Jakarta     High End            No   \n",
       "\n",
       "  Music Product Education Product Call Center Video Product Use MyApp  \\\n",
       "0           Yes                No          No            No        No   \n",
       "1            No                No          No            No        No   \n",
       "2            No               Yes          No           Yes       Yes   \n",
       "3            No               Yes         Yes           Yes       Yes   \n",
       "4           Yes               Yes          No           Yes       Yes   \n",
       "\n",
       "   Payment Method Monthly Purchase (Thou. IDR) Churn Label  Longitude  \\\n",
       "0  Digital Wallet                       70,005         Yes  106,81667   \n",
       "1           Pulsa                        91,91         Yes  106,81667   \n",
       "2           Pulsa                      129,545         Yes  106,81667   \n",
       "3           Pulsa                       136,24         Yes  106,81667   \n",
       "4           Debit                       134,81         Yes  106,81667   \n",
       "\n",
       "   Latitude CLTV (Predicted Thou. IDR)  \n",
       "0  -6,20000                     4210,7  \n",
       "1  -6,20000                     3511,3  \n",
       "2  -6,20000                     6983,6  \n",
       "3  -6,20000                     6503,9  \n",
       "4  -6,20000                       6942  "
      ]
     },
     "execution_count": 86,
     "metadata": {},
     "output_type": "execute_result"
    }
   ],
   "source": [
    "df = pd.read_csv('Telco_customer_churn.csv', sep=';')\n",
    "pd.options.display.max_columns = None\n",
    "df.head()"
   ]
  },
  {
   "cell_type": "code",
   "execution_count": 87,
   "metadata": {},
   "outputs": [
    {
     "name": "stdout",
     "output_type": "stream",
     "text": [
      "<class 'pandas.core.frame.DataFrame'>\n",
      "RangeIndex: 7043 entries, 0 to 7042\n",
      "Data columns (total 16 columns):\n",
      " #   Column                        Non-Null Count  Dtype \n",
      "---  ------                        --------------  ----- \n",
      " 0   Customer ID                   7043 non-null   int64 \n",
      " 1   Tenure Months                 7043 non-null   int64 \n",
      " 2   Location                      7043 non-null   object\n",
      " 3   Device Class                  7043 non-null   object\n",
      " 4   Games Product                 7043 non-null   object\n",
      " 5   Music Product                 7043 non-null   object\n",
      " 6   Education Product             7043 non-null   object\n",
      " 7   Call Center                   7043 non-null   object\n",
      " 8   Video Product                 7043 non-null   object\n",
      " 9   Use MyApp                     7043 non-null   object\n",
      " 10  Payment Method                7043 non-null   object\n",
      " 11  Monthly Purchase (Thou. IDR)  7043 non-null   object\n",
      " 12  Churn Label                   7043 non-null   object\n",
      " 13  Longitude                     7043 non-null   object\n",
      " 14  Latitude                      7043 non-null   object\n",
      " 15  CLTV (Predicted Thou. IDR)    7043 non-null   object\n",
      "dtypes: int64(2), object(14)\n",
      "memory usage: 880.5+ KB\n"
     ]
    }
   ],
   "source": [
    "df.info()"
   ]
  },
  {
   "cell_type": "code",
   "execution_count": 88,
   "metadata": {},
   "outputs": [
    {
     "data": {
      "text/plain": [
       "Customer ID                     0\n",
       "Tenure Months                   0\n",
       "Location                        0\n",
       "Device Class                    0\n",
       "Games Product                   0\n",
       "Music Product                   0\n",
       "Education Product               0\n",
       "Call Center                     0\n",
       "Video Product                   0\n",
       "Use MyApp                       0\n",
       "Payment Method                  0\n",
       "Monthly Purchase (Thou. IDR)    0\n",
       "Churn Label                     0\n",
       "Longitude                       0\n",
       "Latitude                        0\n",
       "CLTV (Predicted Thou. IDR)      0\n",
       "dtype: int64"
      ]
     },
     "execution_count": 88,
     "metadata": {},
     "output_type": "execute_result"
    }
   ],
   "source": [
    "df.isnull().sum()"
   ]
  },
  {
   "cell_type": "code",
   "execution_count": 89,
   "metadata": {},
   "outputs": [
    {
     "data": {
      "text/html": [
       "<div>\n",
       "<style scoped>\n",
       "    .dataframe tbody tr th:only-of-type {\n",
       "        vertical-align: middle;\n",
       "    }\n",
       "\n",
       "    .dataframe tbody tr th {\n",
       "        vertical-align: top;\n",
       "    }\n",
       "\n",
       "    .dataframe thead th {\n",
       "        text-align: right;\n",
       "    }\n",
       "</style>\n",
       "<table border=\"1\" class=\"dataframe\">\n",
       "  <thead>\n",
       "    <tr style=\"text-align: right;\">\n",
       "      <th></th>\n",
       "      <th>Customer ID</th>\n",
       "      <th>Tenure Months</th>\n",
       "      <th>Location</th>\n",
       "      <th>Device Class</th>\n",
       "      <th>Games Product</th>\n",
       "      <th>Music Product</th>\n",
       "      <th>Education Product</th>\n",
       "      <th>Call Center</th>\n",
       "      <th>Video Product</th>\n",
       "      <th>Use MyApp</th>\n",
       "      <th>Payment Method</th>\n",
       "      <th>Monthly Purchase (Thou. IDR)</th>\n",
       "      <th>Churn Label</th>\n",
       "      <th>Longitude</th>\n",
       "      <th>Latitude</th>\n",
       "      <th>CLTV (Predicted Thou. IDR)</th>\n",
       "    </tr>\n",
       "  </thead>\n",
       "  <tbody>\n",
       "  </tbody>\n",
       "</table>\n",
       "</div>"
      ],
      "text/plain": [
       "Empty DataFrame\n",
       "Columns: [Customer ID, Tenure Months, Location, Device Class, Games Product, Music Product, Education Product, Call Center, Video Product, Use MyApp, Payment Method, Monthly Purchase (Thou. IDR), Churn Label, Longitude, Latitude, CLTV (Predicted Thou. IDR)]\n",
       "Index: []"
      ]
     },
     "execution_count": 89,
     "metadata": {},
     "output_type": "execute_result"
    }
   ],
   "source": [
    "df[df.duplicated()]"
   ]
  },
  {
   "cell_type": "markdown",
   "metadata": {},
   "source": [
    "### Data Manipulation"
   ]
  },
  {
   "cell_type": "code",
   "execution_count": 90,
   "metadata": {},
   "outputs": [],
   "source": [
    "df['Monthly Purchase (Thou. IDR)'] = df['Monthly Purchase (Thou. IDR)'].str.replace(',', '.').astype(float)\n",
    "df['CLTV (Predicted Thou. IDR)'] = df['CLTV (Predicted Thou. IDR)'].str.replace(',', '.').astype(float)"
   ]
  },
  {
   "cell_type": "code",
   "execution_count": 91,
   "metadata": {},
   "outputs": [
    {
     "data": {
      "text/html": [
       "<div>\n",
       "<style scoped>\n",
       "    .dataframe tbody tr th:only-of-type {\n",
       "        vertical-align: middle;\n",
       "    }\n",
       "\n",
       "    .dataframe tbody tr th {\n",
       "        vertical-align: top;\n",
       "    }\n",
       "\n",
       "    .dataframe thead th {\n",
       "        text-align: right;\n",
       "    }\n",
       "</style>\n",
       "<table border=\"1\" class=\"dataframe\">\n",
       "  <thead>\n",
       "    <tr style=\"text-align: right;\">\n",
       "      <th></th>\n",
       "      <th>Monthly Purchase (Thou. IDR)</th>\n",
       "      <th>CLTV (Predicted Thou. IDR)</th>\n",
       "    </tr>\n",
       "  </thead>\n",
       "  <tbody>\n",
       "    <tr>\n",
       "      <th>0</th>\n",
       "      <td>70.005</td>\n",
       "      <td>4210.7</td>\n",
       "    </tr>\n",
       "    <tr>\n",
       "      <th>1</th>\n",
       "      <td>91.910</td>\n",
       "      <td>3511.3</td>\n",
       "    </tr>\n",
       "    <tr>\n",
       "      <th>2</th>\n",
       "      <td>129.545</td>\n",
       "      <td>6983.6</td>\n",
       "    </tr>\n",
       "    <tr>\n",
       "      <th>3</th>\n",
       "      <td>136.240</td>\n",
       "      <td>6503.9</td>\n",
       "    </tr>\n",
       "    <tr>\n",
       "      <th>4</th>\n",
       "      <td>134.810</td>\n",
       "      <td>6942.0</td>\n",
       "    </tr>\n",
       "  </tbody>\n",
       "</table>\n",
       "</div>"
      ],
      "text/plain": [
       "   Monthly Purchase (Thou. IDR)  CLTV (Predicted Thou. IDR)\n",
       "0                        70.005                      4210.7\n",
       "1                        91.910                      3511.3\n",
       "2                       129.545                      6983.6\n",
       "3                       136.240                      6503.9\n",
       "4                       134.810                      6942.0"
      ]
     },
     "execution_count": 91,
     "metadata": {},
     "output_type": "execute_result"
    }
   ],
   "source": [
    "df[['Monthly Purchase (Thou. IDR)', 'CLTV (Predicted Thou. IDR)']].head()"
   ]
  },
  {
   "cell_type": "markdown",
   "metadata": {},
   "source": [
    "## EDA"
   ]
  },
  {
   "cell_type": "code",
   "execution_count": 92,
   "metadata": {},
   "outputs": [
    {
     "data": {
      "text/html": [
       "<div>\n",
       "<style scoped>\n",
       "    .dataframe tbody tr th:only-of-type {\n",
       "        vertical-align: middle;\n",
       "    }\n",
       "\n",
       "    .dataframe tbody tr th {\n",
       "        vertical-align: top;\n",
       "    }\n",
       "\n",
       "    .dataframe thead th {\n",
       "        text-align: right;\n",
       "    }\n",
       "</style>\n",
       "<table border=\"1\" class=\"dataframe\">\n",
       "  <thead>\n",
       "    <tr style=\"text-align: right;\">\n",
       "      <th></th>\n",
       "      <th>Customer ID</th>\n",
       "      <th>Tenure Months</th>\n",
       "      <th>Monthly Purchase (Thou. IDR)</th>\n",
       "      <th>CLTV (Predicted Thou. IDR)</th>\n",
       "    </tr>\n",
       "  </thead>\n",
       "  <tbody>\n",
       "    <tr>\n",
       "      <th>count</th>\n",
       "      <td>7043.000000</td>\n",
       "      <td>7043.000000</td>\n",
       "      <td>7043.000000</td>\n",
       "      <td>7043.000000</td>\n",
       "    </tr>\n",
       "    <tr>\n",
       "      <th>mean</th>\n",
       "      <td>3521.000000</td>\n",
       "      <td>32.371149</td>\n",
       "      <td>84.190200</td>\n",
       "      <td>5720.384481</td>\n",
       "    </tr>\n",
       "    <tr>\n",
       "      <th>std</th>\n",
       "      <td>2033.283305</td>\n",
       "      <td>24.559481</td>\n",
       "      <td>39.117061</td>\n",
       "      <td>1537.974298</td>\n",
       "    </tr>\n",
       "    <tr>\n",
       "      <th>min</th>\n",
       "      <td>0.000000</td>\n",
       "      <td>0.000000</td>\n",
       "      <td>23.725000</td>\n",
       "      <td>2603.900000</td>\n",
       "    </tr>\n",
       "    <tr>\n",
       "      <th>25%</th>\n",
       "      <td>1760.500000</td>\n",
       "      <td>9.000000</td>\n",
       "      <td>46.150000</td>\n",
       "      <td>4509.700000</td>\n",
       "    </tr>\n",
       "    <tr>\n",
       "      <th>50%</th>\n",
       "      <td>3521.000000</td>\n",
       "      <td>29.000000</td>\n",
       "      <td>91.455000</td>\n",
       "      <td>5885.100000</td>\n",
       "    </tr>\n",
       "    <tr>\n",
       "      <th>75%</th>\n",
       "      <td>5281.500000</td>\n",
       "      <td>55.000000</td>\n",
       "      <td>116.805000</td>\n",
       "      <td>6994.650000</td>\n",
       "    </tr>\n",
       "    <tr>\n",
       "      <th>max</th>\n",
       "      <td>7042.000000</td>\n",
       "      <td>72.000000</td>\n",
       "      <td>154.375000</td>\n",
       "      <td>8450.000000</td>\n",
       "    </tr>\n",
       "  </tbody>\n",
       "</table>\n",
       "</div>"
      ],
      "text/plain": [
       "       Customer ID  Tenure Months  Monthly Purchase (Thou. IDR)  \\\n",
       "count  7043.000000    7043.000000                   7043.000000   \n",
       "mean   3521.000000      32.371149                     84.190200   \n",
       "std    2033.283305      24.559481                     39.117061   \n",
       "min       0.000000       0.000000                     23.725000   \n",
       "25%    1760.500000       9.000000                     46.150000   \n",
       "50%    3521.000000      29.000000                     91.455000   \n",
       "75%    5281.500000      55.000000                    116.805000   \n",
       "max    7042.000000      72.000000                    154.375000   \n",
       "\n",
       "       CLTV (Predicted Thou. IDR)  \n",
       "count                 7043.000000  \n",
       "mean                  5720.384481  \n",
       "std                   1537.974298  \n",
       "min                   2603.900000  \n",
       "25%                   4509.700000  \n",
       "50%                   5885.100000  \n",
       "75%                   6994.650000  \n",
       "max                   8450.000000  "
      ]
     },
     "execution_count": 92,
     "metadata": {},
     "output_type": "execute_result"
    }
   ],
   "source": [
    "df.describe()"
   ]
  },
  {
   "cell_type": "code",
   "execution_count": 93,
   "metadata": {},
   "outputs": [],
   "source": [
    "def plot_box(data, labels, title):\n",
    "    sns.set_style(\"whitegrid\")\n",
    "    plt.figure(figsize=(10,5))\n",
    "    ax = sns.boxplot(data=data, orient='h', showmeans=True)\n",
    "    ax.set_xlabel('Value')\n",
    "    ax.set_title(title)\n",
    "    ax.set_yticklabels(labels)\n",
    "    plt.show()"
   ]
  },
  {
   "cell_type": "code",
   "execution_count": 94,
   "metadata": {},
   "outputs": [
    {
     "data": {
      "image/png": "[encoded data removed]",
      "text/plain": [
       "<Figure size 720x360 with 1 Axes>"
      ]
     },
     "metadata": {},
     "output_type": "display_data"
    }
   ],
   "source": [
    "plot_box(data=[df['Monthly Purchase (Thou. IDR)'], df['CLTV (Predicted Thou. IDR)']],\n",
    "         labels=['Monthly\\nPurchase', 'CLTV'],\n",
    "         title='Boxplot of Dataset Features')"
   ]
  },
  {
   "cell_type": "code",
   "execution_count": 95,
   "metadata": {},
   "outputs": [
    {
     "data": {
      "image/png": "[encoded data removed]",
      "text/plain": [
       "<Figure size 1440x1440 with 16 Axes>"
      ]
     },
     "metadata": {},
     "output_type": "display_data"
    }
   ],
   "source": [
    "# Mengatur subplot dengan 4 baris dan 4 kolom\n",
    "fig, axes = plt.subplots(4, 4, figsize=(20, 20))\n",
    "fig.subplots_adjust(wspace=0.5, hspace=0.5)  # Mengatur jarak antara subplot\n",
    "\n",
    "# Loop melalui setiap kolom dalam DataFrame dan membuat plot distribusi\n",
    "for i, column in enumerate(df.columns):\n",
    "    if df[column].dtype == 'int64' or df[column].dtype == 'float64':\n",
    "        sns.histplot(data=df, x=column, kde=True, bins=30, ax=axes[i // 4, i % 4])\n",
    "        axes[i // 4, i % 4].set_xlabel(column)\n",
    "        axes[i // 4, i % 4].set_ylabel('Count')\n",
    "    else:\n",
    "        sns.countplot(data=df, x=column, order=df[column].value_counts().index, ax=axes[i // 4, i % 4])\n",
    "        axes[i // 4, i % 4].set_xlabel(column)\n",
    "        axes[i // 4, i % 4].set_ylabel('Count')\n",
    "        axes[i // 4, i % 4].tick_params(axis='x', rotation=90)  # Untuk menghindari overlap pada label\n",
    "plt.tight_layout()\n",
    "plt.show()"
   ]
  },
  {
   "cell_type": "markdown",
   "metadata": {},
   "source": [
    "### Multikolinearitas"
   ]
  },
  {
   "cell_type": "code",
   "execution_count": 96,
   "metadata": {},
   "outputs": [
    {
     "data": {
      "text/html": [
       "<div>\n",
       "<style scoped>\n",
       "    .dataframe tbody tr th:only-of-type {\n",
       "        vertical-align: middle;\n",
       "    }\n",
       "\n",
       "    .dataframe tbody tr th {\n",
       "        vertical-align: top;\n",
       "    }\n",
       "\n",
       "    .dataframe thead th {\n",
       "        text-align: right;\n",
       "    }\n",
       "</style>\n",
       "<table border=\"1\" class=\"dataframe\">\n",
       "  <thead>\n",
       "    <tr style=\"text-align: right;\">\n",
       "      <th></th>\n",
       "      <th>feature</th>\n",
       "      <th>VIF</th>\n",
       "    </tr>\n",
       "  </thead>\n",
       "  <tbody>\n",
       "    <tr>\n",
       "      <th>1</th>\n",
       "      <td>Monthly Purchase (Thou. IDR)</td>\n",
       "      <td>1.009836</td>\n",
       "    </tr>\n",
       "    <tr>\n",
       "      <th>2</th>\n",
       "      <td>CLTV (Predicted Thou. IDR)</td>\n",
       "      <td>1.009836</td>\n",
       "    </tr>\n",
       "  </tbody>\n",
       "</table>\n",
       "</div>"
      ],
      "text/plain": [
       "                        feature       VIF\n",
       "1  Monthly Purchase (Thou. IDR)  1.009836\n",
       "2    CLTV (Predicted Thou. IDR)  1.009836"
      ]
     },
     "metadata": {},
     "output_type": "display_data"
    }
   ],
   "source": [
    "from statsmodels.stats.outliers_influence import variance_inflation_factor\n",
    "from statsmodels.tools import add_constant\n",
    "\n",
    "X = df[['Monthly Purchase (Thou. IDR)', 'CLTV (Predicted Thou. IDR)']]\n",
    "X = add_constant(X)\n",
    "\n",
    "# VIF dataframe\n",
    "vif_data = pd.DataFrame()\n",
    "\n",
    "# Hitung VIF tiap fitur\n",
    "vif_data[\"feature\"] = X.columns\n",
    "vif_data[\"VIF\"] = [variance_inflation_factor(X.values, i) for i in range(len(X.columns))]\n",
    "vif_data = vif_data[vif_data['feature'] != 'const']\n",
    "\n",
    "display(vif_data)"
   ]
  },
  {
   "cell_type": "markdown",
   "metadata": {},
   "source": [
    "## Feature Engineering"
   ]
  },
  {
   "cell_type": "markdown",
   "metadata": {},
   "source": [
    "### Label Encoding"
   ]
  },
  {
   "cell_type": "code",
   "execution_count": 97,
   "metadata": {},
   "outputs": [],
   "source": [
    "from sklearn.preprocessing import LabelEncoder\n",
    "\n",
    "le = LabelEncoder()\n",
    "columns = ['Location', 'Device Class', 'Games Product', 'Music Product', 'Education Product',\n",
    "                     'Call Center', 'Video Product', 'Use MyApp', 'Payment Method', 'Churn Label']\n",
    "\n",
    "# Label encoding untuk setiap kolom\n",
    "for col in columns:\n",
    "    df[col] = le.fit_transform(df[col])"
   ]
  },
  {
   "cell_type": "markdown",
   "metadata": {},
   "source": [
    "### Scaling Features Dataset"
   ]
  },
  {
   "cell_type": "code",
   "execution_count": 98,
   "metadata": {},
   "outputs": [],
   "source": [
    "from sklearn.preprocessing import MinMaxScaler\n",
    "scaler = MinMaxScaler()\n",
    "col = ['Monthly Purchase (Thou. IDR)', 'CLTV (Predicted Thou. IDR)']\n",
    "df[col] = scaler.fit_transform(df[col])"
   ]
  },
  {
   "cell_type": "markdown",
   "metadata": {},
   "source": [
    "### Heatmap"
   ]
  },
  {
   "cell_type": "code",
   "execution_count": 126,
   "metadata": {},
   "outputs": [
    {
     "data": {
      "image/png": "[encoded data removed]",
      "text/plain": [
       "<Figure size 1080x720 with 2 Axes>"
      ]
     },
     "metadata": {},
     "output_type": "display_data"
    }
   ],
   "source": [
    "corr = df.corr()\n",
    "plt.figure(figsize=(15, 10)) \n",
    "sns.set(font_scale=1.2)  \n",
    "\n",
    "sns.heatmap(corr.loc[['CLTV (Predicted Thou. IDR)']], annot=True, fmt=\".2f\")\n",
    "\n",
    "plt.title('Heatmap of Data Correlation')\n",
    "plt.show()"
   ]
  },
  {
   "cell_type": "code",
   "execution_count": 100,
   "metadata": {},
   "outputs": [
    {
     "data": {
      "text/html": [
       "<div>\n",
       "<style scoped>\n",
       "    .dataframe tbody tr th:only-of-type {\n",
       "        vertical-align: middle;\n",
       "    }\n",
       "\n",
       "    .dataframe tbody tr th {\n",
       "        vertical-align: top;\n",
       "    }\n",
       "\n",
       "    .dataframe thead th {\n",
       "        text-align: right;\n",
       "    }\n",
       "</style>\n",
       "<table border=\"1\" class=\"dataframe\">\n",
       "  <thead>\n",
       "    <tr style=\"text-align: right;\">\n",
       "      <th></th>\n",
       "      <th>Customer ID</th>\n",
       "      <th>Tenure Months</th>\n",
       "      <th>Location</th>\n",
       "      <th>Device Class</th>\n",
       "      <th>Games Product</th>\n",
       "      <th>Music Product</th>\n",
       "      <th>Education Product</th>\n",
       "      <th>Call Center</th>\n",
       "      <th>Video Product</th>\n",
       "      <th>Use MyApp</th>\n",
       "      <th>Payment Method</th>\n",
       "      <th>Monthly Purchase (Thou. IDR)</th>\n",
       "      <th>Churn Label</th>\n",
       "      <th>Longitude</th>\n",
       "      <th>Latitude</th>\n",
       "      <th>CLTV (Predicted Thou. IDR)</th>\n",
       "    </tr>\n",
       "  </thead>\n",
       "  <tbody>\n",
       "    <tr>\n",
       "      <th>0</th>\n",
       "      <td>0</td>\n",
       "      <td>2</td>\n",
       "      <td>1</td>\n",
       "      <td>2</td>\n",
       "      <td>2</td>\n",
       "      <td>2</td>\n",
       "      <td>0</td>\n",
       "      <td>0</td>\n",
       "      <td>0</td>\n",
       "      <td>0</td>\n",
       "      <td>2</td>\n",
       "      <td>0.354229</td>\n",
       "      <td>1</td>\n",
       "      <td>106,81667</td>\n",
       "      <td>-6,20000</td>\n",
       "      <td>0.274850</td>\n",
       "    </tr>\n",
       "    <tr>\n",
       "      <th>1</th>\n",
       "      <td>1</td>\n",
       "      <td>2</td>\n",
       "      <td>1</td>\n",
       "      <td>0</td>\n",
       "      <td>0</td>\n",
       "      <td>0</td>\n",
       "      <td>0</td>\n",
       "      <td>0</td>\n",
       "      <td>0</td>\n",
       "      <td>0</td>\n",
       "      <td>3</td>\n",
       "      <td>0.521891</td>\n",
       "      <td>1</td>\n",
       "      <td>106,81667</td>\n",
       "      <td>-6,20000</td>\n",
       "      <td>0.155215</td>\n",
       "    </tr>\n",
       "    <tr>\n",
       "      <th>2</th>\n",
       "      <td>2</td>\n",
       "      <td>8</td>\n",
       "      <td>1</td>\n",
       "      <td>0</td>\n",
       "      <td>0</td>\n",
       "      <td>0</td>\n",
       "      <td>2</td>\n",
       "      <td>0</td>\n",
       "      <td>2</td>\n",
       "      <td>2</td>\n",
       "      <td>3</td>\n",
       "      <td>0.809950</td>\n",
       "      <td>1</td>\n",
       "      <td>106,81667</td>\n",
       "      <td>-6,20000</td>\n",
       "      <td>0.749166</td>\n",
       "    </tr>\n",
       "    <tr>\n",
       "      <th>3</th>\n",
       "      <td>3</td>\n",
       "      <td>28</td>\n",
       "      <td>1</td>\n",
       "      <td>0</td>\n",
       "      <td>0</td>\n",
       "      <td>0</td>\n",
       "      <td>2</td>\n",
       "      <td>1</td>\n",
       "      <td>2</td>\n",
       "      <td>2</td>\n",
       "      <td>3</td>\n",
       "      <td>0.861194</td>\n",
       "      <td>1</td>\n",
       "      <td>106,81667</td>\n",
       "      <td>-6,20000</td>\n",
       "      <td>0.667111</td>\n",
       "    </tr>\n",
       "    <tr>\n",
       "      <th>4</th>\n",
       "      <td>4</td>\n",
       "      <td>49</td>\n",
       "      <td>1</td>\n",
       "      <td>0</td>\n",
       "      <td>0</td>\n",
       "      <td>2</td>\n",
       "      <td>2</td>\n",
       "      <td>0</td>\n",
       "      <td>2</td>\n",
       "      <td>2</td>\n",
       "      <td>1</td>\n",
       "      <td>0.850249</td>\n",
       "      <td>1</td>\n",
       "      <td>106,81667</td>\n",
       "      <td>-6,20000</td>\n",
       "      <td>0.742050</td>\n",
       "    </tr>\n",
       "  </tbody>\n",
       "</table>\n",
       "</div>"
      ],
      "text/plain": [
       "   Customer ID  Tenure Months  Location  Device Class  Games Product  \\\n",
       "0            0              2         1             2              2   \n",
       "1            1              2         1             0              0   \n",
       "2            2              8         1             0              0   \n",
       "3            3             28         1             0              0   \n",
       "4            4             49         1             0              0   \n",
       "\n",
       "   Music Product  Education Product  Call Center  Video Product  Use MyApp  \\\n",
       "0              2                  0            0              0          0   \n",
       "1              0                  0            0              0          0   \n",
       "2              0                  2            0              2          2   \n",
       "3              0                  2            1              2          2   \n",
       "4              2                  2            0              2          2   \n",
       "\n",
       "   Payment Method  Monthly Purchase (Thou. IDR)  Churn Label  Longitude  \\\n",
       "0               2                      0.354229            1  106,81667   \n",
       "1               3                      0.521891            1  106,81667   \n",
       "2               3                      0.809950            1  106,81667   \n",
       "3               3                      0.861194            1  106,81667   \n",
       "4               1                      0.850249            1  106,81667   \n",
       "\n",
       "   Latitude  CLTV (Predicted Thou. IDR)  \n",
       "0  -6,20000                    0.274850  \n",
       "1  -6,20000                    0.155215  \n",
       "2  -6,20000                    0.749166  \n",
       "3  -6,20000                    0.667111  \n",
       "4  -6,20000                    0.742050  "
      ]
     },
     "execution_count": 100,
     "metadata": {},
     "output_type": "execute_result"
    }
   ],
   "source": [
    "df.head()"
   ]
  },
  {
   "cell_type": "code",
   "execution_count": 101,
   "metadata": {},
   "outputs": [],
   "source": [
    "df_drop = df[[\"Customer ID\", \"Tenure Months\", \"Longitude\", \"Latitude\"]]"
   ]
  },
  {
   "cell_type": "code",
   "execution_count": 102,
   "metadata": {},
   "outputs": [],
   "source": [
    "df = df.drop([\"Customer ID\", \"Tenure Months\", \"Longitude\", \"Latitude\"], axis=1)"
   ]
  },
  {
   "cell_type": "code",
   "execution_count": 103,
   "metadata": {},
   "outputs": [],
   "source": [
    "df = df[:].astype(float)"
   ]
  },
  {
   "cell_type": "code",
   "execution_count": 104,
   "metadata": {},
   "outputs": [
    {
     "data": {
      "text/html": [
       "<div>\n",
       "<style scoped>\n",
       "    .dataframe tbody tr th:only-of-type {\n",
       "        vertical-align: middle;\n",
       "    }\n",
       "\n",
       "    .dataframe tbody tr th {\n",
       "        vertical-align: top;\n",
       "    }\n",
       "\n",
       "    .dataframe thead th {\n",
       "        text-align: right;\n",
       "    }\n",
       "</style>\n",
       "<table border=\"1\" class=\"dataframe\">\n",
       "  <thead>\n",
       "    <tr style=\"text-align: right;\">\n",
       "      <th></th>\n",
       "      <th>Location</th>\n",
       "      <th>Device Class</th>\n",
       "      <th>Games Product</th>\n",
       "      <th>Music Product</th>\n",
       "      <th>Education Product</th>\n",
       "      <th>Call Center</th>\n",
       "      <th>Video Product</th>\n",
       "      <th>Use MyApp</th>\n",
       "      <th>Payment Method</th>\n",
       "      <th>Monthly Purchase (Thou. IDR)</th>\n",
       "      <th>Churn Label</th>\n",
       "      <th>CLTV (Predicted Thou. IDR)</th>\n",
       "    </tr>\n",
       "  </thead>\n",
       "  <tbody>\n",
       "    <tr>\n",
       "      <th>0</th>\n",
       "      <td>1.0</td>\n",
       "      <td>2.0</td>\n",
       "      <td>2.0</td>\n",
       "      <td>2.0</td>\n",
       "      <td>0.0</td>\n",
       "      <td>0.0</td>\n",
       "      <td>0.0</td>\n",
       "      <td>0.0</td>\n",
       "      <td>2.0</td>\n",
       "      <td>0.354229</td>\n",
       "      <td>1.0</td>\n",
       "      <td>0.274850</td>\n",
       "    </tr>\n",
       "    <tr>\n",
       "      <th>1</th>\n",
       "      <td>1.0</td>\n",
       "      <td>0.0</td>\n",
       "      <td>0.0</td>\n",
       "      <td>0.0</td>\n",
       "      <td>0.0</td>\n",
       "      <td>0.0</td>\n",
       "      <td>0.0</td>\n",
       "      <td>0.0</td>\n",
       "      <td>3.0</td>\n",
       "      <td>0.521891</td>\n",
       "      <td>1.0</td>\n",
       "      <td>0.155215</td>\n",
       "    </tr>\n",
       "    <tr>\n",
       "      <th>2</th>\n",
       "      <td>1.0</td>\n",
       "      <td>0.0</td>\n",
       "      <td>0.0</td>\n",
       "      <td>0.0</td>\n",
       "      <td>2.0</td>\n",
       "      <td>0.0</td>\n",
       "      <td>2.0</td>\n",
       "      <td>2.0</td>\n",
       "      <td>3.0</td>\n",
       "      <td>0.809950</td>\n",
       "      <td>1.0</td>\n",
       "      <td>0.749166</td>\n",
       "    </tr>\n",
       "    <tr>\n",
       "      <th>3</th>\n",
       "      <td>1.0</td>\n",
       "      <td>0.0</td>\n",
       "      <td>0.0</td>\n",
       "      <td>0.0</td>\n",
       "      <td>2.0</td>\n",
       "      <td>1.0</td>\n",
       "      <td>2.0</td>\n",
       "      <td>2.0</td>\n",
       "      <td>3.0</td>\n",
       "      <td>0.861194</td>\n",
       "      <td>1.0</td>\n",
       "      <td>0.667111</td>\n",
       "    </tr>\n",
       "    <tr>\n",
       "      <th>4</th>\n",
       "      <td>1.0</td>\n",
       "      <td>0.0</td>\n",
       "      <td>0.0</td>\n",
       "      <td>2.0</td>\n",
       "      <td>2.0</td>\n",
       "      <td>0.0</td>\n",
       "      <td>2.0</td>\n",
       "      <td>2.0</td>\n",
       "      <td>1.0</td>\n",
       "      <td>0.850249</td>\n",
       "      <td>1.0</td>\n",
       "      <td>0.742050</td>\n",
       "    </tr>\n",
       "    <tr>\n",
       "      <th>...</th>\n",
       "      <td>...</td>\n",
       "      <td>...</td>\n",
       "      <td>...</td>\n",
       "      <td>...</td>\n",
       "      <td>...</td>\n",
       "      <td>...</td>\n",
       "      <td>...</td>\n",
       "      <td>...</td>\n",
       "      <td>...</td>\n",
       "      <td>...</td>\n",
       "      <td>...</td>\n",
       "      <td>...</td>\n",
       "    </tr>\n",
       "    <tr>\n",
       "      <th>7038</th>\n",
       "      <td>1.0</td>\n",
       "      <td>1.0</td>\n",
       "      <td>1.0</td>\n",
       "      <td>1.0</td>\n",
       "      <td>1.0</td>\n",
       "      <td>0.0</td>\n",
       "      <td>1.0</td>\n",
       "      <td>1.0</td>\n",
       "      <td>1.0</td>\n",
       "      <td>0.028856</td>\n",
       "      <td>0.0</td>\n",
       "      <td>0.734490</td>\n",
       "    </tr>\n",
       "    <tr>\n",
       "      <th>7039</th>\n",
       "      <td>1.0</td>\n",
       "      <td>2.0</td>\n",
       "      <td>2.0</td>\n",
       "      <td>0.0</td>\n",
       "      <td>2.0</td>\n",
       "      <td>1.0</td>\n",
       "      <td>2.0</td>\n",
       "      <td>2.0</td>\n",
       "      <td>2.0</td>\n",
       "      <td>0.662189</td>\n",
       "      <td>0.0</td>\n",
       "      <td>0.030465</td>\n",
       "    </tr>\n",
       "    <tr>\n",
       "      <th>7040</th>\n",
       "      <td>1.0</td>\n",
       "      <td>0.0</td>\n",
       "      <td>0.0</td>\n",
       "      <td>2.0</td>\n",
       "      <td>2.0</td>\n",
       "      <td>0.0</td>\n",
       "      <td>2.0</td>\n",
       "      <td>2.0</td>\n",
       "      <td>0.0</td>\n",
       "      <td>0.845274</td>\n",
       "      <td>0.0</td>\n",
       "      <td>0.790972</td>\n",
       "    </tr>\n",
       "    <tr>\n",
       "      <th>7041</th>\n",
       "      <td>1.0</td>\n",
       "      <td>2.0</td>\n",
       "      <td>2.0</td>\n",
       "      <td>0.0</td>\n",
       "      <td>0.0</td>\n",
       "      <td>0.0</td>\n",
       "      <td>0.0</td>\n",
       "      <td>0.0</td>\n",
       "      <td>3.0</td>\n",
       "      <td>0.112935</td>\n",
       "      <td>0.0</td>\n",
       "      <td>0.175673</td>\n",
       "    </tr>\n",
       "    <tr>\n",
       "      <th>7042</th>\n",
       "      <td>1.0</td>\n",
       "      <td>0.0</td>\n",
       "      <td>2.0</td>\n",
       "      <td>0.0</td>\n",
       "      <td>2.0</td>\n",
       "      <td>1.0</td>\n",
       "      <td>2.0</td>\n",
       "      <td>2.0</td>\n",
       "      <td>1.0</td>\n",
       "      <td>0.869652</td>\n",
       "      <td>0.0</td>\n",
       "      <td>0.688014</td>\n",
       "    </tr>\n",
       "  </tbody>\n",
       "</table>\n",
       "<p>7043 rows × 12 columns</p>\n",
       "</div>"
      ],
      "text/plain": [
       "      Location  Device Class  Games Product  Music Product  Education Product  \\\n",
       "0          1.0           2.0            2.0            2.0                0.0   \n",
       "1          1.0           0.0            0.0            0.0                0.0   \n",
       "2          1.0           0.0            0.0            0.0                2.0   \n",
       "3          1.0           0.0            0.0            0.0                2.0   \n",
       "4          1.0           0.0            0.0            2.0                2.0   \n",
       "...        ...           ...            ...            ...                ...   \n",
       "7038       1.0           1.0            1.0            1.0                1.0   \n",
       "7039       1.0           2.0            2.0            0.0                2.0   \n",
       "7040       1.0           0.0            0.0            2.0                2.0   \n",
       "7041       1.0           2.0            2.0            0.0                0.0   \n",
       "7042       1.0           0.0            2.0            0.0                2.0   \n",
       "\n",
       "      Call Center  Video Product  Use MyApp  Payment Method  \\\n",
       "0             0.0            0.0        0.0             2.0   \n",
       "1             0.0            0.0        0.0             3.0   \n",
       "2             0.0            2.0        2.0             3.0   \n",
       "3             1.0            2.0        2.0             3.0   \n",
       "4             0.0            2.0        2.0             1.0   \n",
       "...           ...            ...        ...             ...   \n",
       "7038          0.0            1.0        1.0             1.0   \n",
       "7039          1.0            2.0        2.0             2.0   \n",
       "7040          0.0            2.0        2.0             0.0   \n",
       "7041          0.0            0.0        0.0             3.0   \n",
       "7042          1.0            2.0        2.0             1.0   \n",
       "\n",
       "      Monthly Purchase (Thou. IDR)  Churn Label  CLTV (Predicted Thou. IDR)  \n",
       "0                         0.354229          1.0                    0.274850  \n",
       "1                         0.521891          1.0                    0.155215  \n",
       "2                         0.809950          1.0                    0.749166  \n",
       "3                         0.861194          1.0                    0.667111  \n",
       "4                         0.850249          1.0                    0.742050  \n",
       "...                            ...          ...                         ...  \n",
       "7038                      0.028856          0.0                    0.734490  \n",
       "7039                      0.662189          0.0                    0.030465  \n",
       "7040                      0.845274          0.0                    0.790972  \n",
       "7041                      0.112935          0.0                    0.175673  \n",
       "7042                      0.869652          0.0                    0.688014  \n",
       "\n",
       "[7043 rows x 12 columns]"
      ]
     },
     "execution_count": 104,
     "metadata": {},
     "output_type": "execute_result"
    }
   ],
   "source": [
    "df"
   ]
  },
  {
   "cell_type": "markdown",
   "metadata": {},
   "source": [
    "## Modelling"
   ]
  },
  {
   "cell_type": "code",
   "execution_count": 105,
   "metadata": {},
   "outputs": [],
   "source": [
    "from sklearn.model_selection import train_test_split\n",
    "\n",
    "X = df.drop('CLTV (Predicted Thou. IDR)', axis=1)\n",
    "y = df['CLTV (Predicted Thou. IDR)']\n",
    "\n",
    "X_train, X_test, y_train, y_test = train_test_split(X, y, test_size = 0.25)"
   ]
  },
  {
   "cell_type": "code",
   "execution_count": 136,
   "metadata": {},
   "outputs": [],
   "source": [
    "def rounded_value(value) :\n",
    "    value = round(value, 5)\n",
    "    return value*100"
   ]
  },
  {
   "cell_type": "markdown",
   "metadata": {},
   "source": [
    "### Linear Regression"
   ]
  },
  {
   "cell_type": "code",
   "execution_count": 106,
   "metadata": {},
   "outputs": [],
   "source": [
    "from sklearn.linear_model import LinearRegression\n",
    "\n",
    "lr = LinearRegression()\n",
    "lr.fit(X_train, y_train)\n",
    "\n",
    "y_pred_lr = lr.predict(X_test)"
   ]
  },
  {
   "cell_type": "code",
   "execution_count": 137,
   "metadata": {},
   "outputs": [
    {
     "name": "stdout",
     "output_type": "stream",
     "text": [
      "MSE : 6.487\n",
      "R-Squared : 5.029\n"
     ]
    }
   ],
   "source": [
    "from sklearn.metrics import mean_squared_error, r2_score\n",
    "\n",
    "mse_lr = mean_squared_error(y_test, y_pred_lr)\n",
    "print(f\"MSE : {rounded_value(mse_lr)}\")\n",
    "\n",
    "r2_lr = r2_score(y_test, y_pred_lr)\n",
    "print(f'R-Squared : {rounded_value(r2_lr)}')"
   ]
  },
  {
   "cell_type": "code",
   "execution_count": 108,
   "metadata": {},
   "outputs": [],
   "source": [
    "# import seaborn as sns\n",
    "\n",
    "# sns.kdeplot(y_test, label='y_test')\n",
    "# sns.kdeplot(y_pred_lr, label='y_pred')\n",
    "# plt.xlabel('Value')\n",
    "# plt.ylabel('Density')\n",
    "# plt.title('Comparison y_test vs y_pred')\n",
    "# plt.legend()\n",
    "# plt.show()"
   ]
  },
  {
   "cell_type": "markdown",
   "metadata": {},
   "source": [
    "### Ridge and Lasso Regression"
   ]
  },
  {
   "cell_type": "markdown",
   "metadata": {},
   "source": [
    "#### Lasso Regression"
   ]
  },
  {
   "cell_type": "code",
   "execution_count": 109,
   "metadata": {},
   "outputs": [
    {
     "name": "stderr",
     "output_type": "stream",
     "text": [
      "c:\\Users\\marse\\AppData\\Local\\Programs\\Python\\Python310\\lib\\site-packages\\sklearn\\linear_model\\_coordinate_descent.py:617: UserWarning: Coordinate descent without L1 regularization may lead to unexpected results and is discouraged. Set l1_ratio > 0 to add L1 regularization.\n",
      "  model = cd_fast.enet_coordinate_descent_gram(\n",
      "c:\\Users\\marse\\AppData\\Local\\Programs\\Python\\Python310\\lib\\site-packages\\sklearn\\linear_model\\_coordinate_descent.py:617: UserWarning: Coordinate descent without L1 regularization may lead to unexpected results and is discouraged. Set l1_ratio > 0 to add L1 regularization.\n",
      "  model = cd_fast.enet_coordinate_descent_gram(\n",
      "c:\\Users\\marse\\AppData\\Local\\Programs\\Python\\Python310\\lib\\site-packages\\sklearn\\linear_model\\_coordinate_descent.py:617: UserWarning: Coordinate descent without L1 regularization may lead to unexpected results and is discouraged. Set l1_ratio > 0 to add L1 regularization.\n",
      "  model = cd_fast.enet_coordinate_descent_gram(\n",
      "c:\\Users\\marse\\AppData\\Local\\Programs\\Python\\Python310\\lib\\site-packages\\sklearn\\linear_model\\_coordinate_descent.py:617: UserWarning: Coordinate descent without L1 regularization may lead to unexpected results and is discouraged. Set l1_ratio > 0 to add L1 regularization.\n",
      "  model = cd_fast.enet_coordinate_descent_gram(\n",
      "c:\\Users\\marse\\AppData\\Local\\Programs\\Python\\Python310\\lib\\site-packages\\sklearn\\linear_model\\_coordinate_descent.py:617: ConvergenceWarning: Objective did not converge. You might want to increase the number of iterations. Duality gap: 136.38917044050092, tolerance: 0.029253372567127442\n",
      "  model = cd_fast.enet_coordinate_descent_gram(\n"
     ]
    },
    {
     "name": "stderr",
     "output_type": "stream",
     "text": [
      "c:\\Users\\marse\\AppData\\Local\\Programs\\Python\\Python310\\lib\\site-packages\\sklearn\\linear_model\\_coordinate_descent.py:617: UserWarning: Coordinate descent without L1 regularization may lead to unexpected results and is discouraged. Set l1_ratio > 0 to add L1 regularization.\n",
      "  model = cd_fast.enet_coordinate_descent_gram(\n",
      "c:\\Users\\marse\\AppData\\Local\\Programs\\Python\\Python310\\lib\\site-packages\\sklearn\\linear_model\\_coordinate_descent.py:617: ConvergenceWarning: Objective did not converge. You might want to increase the number of iterations. Duality gap: 137.26948351499502, tolerance: 0.029320615115860944\n",
      "  model = cd_fast.enet_coordinate_descent_gram(\n",
      "c:\\Users\\marse\\AppData\\Local\\Programs\\Python\\Python310\\lib\\site-packages\\sklearn\\linear_model\\_coordinate_descent.py:1712: UserWarning: With alpha=0, this algorithm does not converge well. You are advised to use the LinearRegression estimator\n",
      "  model.fit(X, y)\n",
      "c:\\Users\\marse\\AppData\\Local\\Programs\\Python\\Python310\\lib\\site-packages\\sklearn\\linear_model\\_coordinate_descent.py:631: UserWarning: Coordinate descent with no regularization may lead to unexpected results and is discouraged.\n",
      "  model = cd_fast.enet_coordinate_descent(\n",
      "c:\\Users\\marse\\AppData\\Local\\Programs\\Python\\Python310\\lib\\site-packages\\sklearn\\linear_model\\_coordinate_descent.py:631: ConvergenceWarning: Objective did not converge. You might want to increase the number of iterations, check the scale of the features or consider increasing regularisation. Duality gap: 1.716e+02, tolerance: 3.669e-02 Linear regression models with null weight for the l1 regularization term are more efficiently fitted using one of the solvers implemented in sklearn.linear_model.Ridge/RidgeCV instead.\n",
      "  model = cd_fast.enet_coordinate_descent(\n"
     ]
    }
   ],
   "source": [
    "from sklearn.linear_model import LassoCV\n",
    "\n",
    "# Buat alpha dengan rentang 0 s.d 1 dengan panjang langkah 0.01 (0, 0.01, 0.02, ... , 0.09, 1)\n",
    "alpha = np.arange(0, 10, 0.01)\n",
    "\n",
    "# Lasso Cross validation\n",
    "lasso_cv = LassoCV(alphas = alpha)\n",
    "lasso_cv.fit(X_train, y_train)\n",
    "\n",
    "# Koefisien determinasi\n",
    "train_score_lasso = lasso_cv.score(X_train, y_train)\n",
    "test_score_lasso = lasso_cv.score(X_test, y_test)"
   ]
  },
  {
   "cell_type": "code",
   "execution_count": 110,
   "metadata": {},
   "outputs": [],
   "source": [
    "# print(f\"R-Squared Data Training : {train_score_lasso}\")\n",
    "# print(f\"R-Squared Data Testing : {test_score_lasso}\")"
   ]
  },
  {
   "cell_type": "code",
   "execution_count": 138,
   "metadata": {},
   "outputs": [
    {
     "name": "stdout",
     "output_type": "stream",
     "text": [
      "MSE (Lasso Regression CV) = 6.487\n",
      "R-Squared (Lasso Regression CV) = 5.029\n"
     ]
    }
   ],
   "source": [
    "y_predict_lassocv = lasso_cv.predict(X_test)\n",
    "mse_lassocv = mean_squared_error(y_test, y_predict_lassocv)\n",
    "r2_lassocv = r2_score(y_test, y_predict_lassocv)\n",
    "\n",
    "print(f\"MSE (Lasso Regression CV) = {rounded_value(mse_lassocv)}\")\n",
    "print(f\"R-Squared (Lasso Regression CV) = {rounded_value(r2_lassocv)}\")"
   ]
  },
  {
   "cell_type": "markdown",
   "metadata": {},
   "source": [
    "#### Ridge Regression"
   ]
  },
  {
   "cell_type": "code",
   "execution_count": 139,
   "metadata": {},
   "outputs": [],
   "source": [
    "from sklearn.linear_model import RidgeCV\n",
    "\n",
    "alpha = np.arange(1, 10, 0.1)\n",
    "\n",
    "#Lasso Cross validation\n",
    "ridge_cv = RidgeCV(alphas = alpha)\n",
    "ridge_cv.fit(X_train, y_train)\n",
    "\n",
    "# Hitung koefisien determinasi\n",
    "train_score_ridge = ridge_cv.score(X_train, y_train)\n",
    "test_score_ridge = ridge_cv.score(X_test, y_test)\n",
    "\n",
    "# print(f\"R-Squared Data Training : {train_score_ridge}\")\n",
    "# print(f\"R-Squared Data Testing : {test_score_ridge}\")"
   ]
  },
  {
   "cell_type": "code",
   "execution_count": 140,
   "metadata": {},
   "outputs": [
    {
     "name": "stdout",
     "output_type": "stream",
     "text": [
      "MSE (Ridge Regression CV) = 6.487\n",
      "R-Squared (Ridge Regression CV) = 5.026\n"
     ]
    }
   ],
   "source": [
    "y_predict_ridgecv = ridge_cv.predict(X_test)\n",
    "mse_ridgecv = mean_squared_error(y_test, y_predict_ridgecv)\n",
    "r2_ridgecv = r2_score(y_test, y_predict_ridgecv)\n",
    "\n",
    "print(f\"MSE (Ridge Regression CV) = {rounded_value(mse_ridgecv)}\")\n",
    "print(f\"R-Squared (Ridge Regression CV) = {rounded_value(r2_ridgecv)}\")"
   ]
  },
  {
   "cell_type": "markdown",
   "metadata": {},
   "source": [
    "### Decision Tree Regressor"
   ]
  },
  {
   "cell_type": "code",
   "execution_count": 141,
   "metadata": {},
   "outputs": [
    {
     "name": "stdout",
     "output_type": "stream",
     "text": [
      "MSE: 12.128\n",
      "R-Squared: -77.561\n"
     ]
    }
   ],
   "source": [
    "from sklearn.tree import DecisionTreeRegressor\n",
    "\n",
    "model_dt = DecisionTreeRegressor()\n",
    "model_dt.fit(X_train, y_train)\n",
    "y_pred_dt = model_dt.predict(X_test)\n",
    "\n",
    "# Hitung nilai MSE & r2\n",
    "mse_dt = mean_squared_error(y_test, y_pred_dt)\n",
    "r2_dt = r2_score(y_test, y_pred_dt)\n",
    "\n",
    "print(f'MSE: {rounded_value(mse_dt)}')\n",
    "print(f'R-Squared: {rounded_value(r2_dt)}')"
   ]
  },
  {
   "cell_type": "code",
   "execution_count": 115,
   "metadata": {},
   "outputs": [],
   "source": [
    "# sns.kdeplot(y_test, label='y_test')\n",
    "# sns.kdeplot(y_pred_dt, label='y_pred')\n",
    "# plt.xlabel('Value')\n",
    "# plt.ylabel('Density')\n",
    "# plt.title('Decision Tree Regression\\nComparison Between y_test vs y_pred')\n",
    "# plt.legend()\n",
    "# plt.show()"
   ]
  },
  {
   "cell_type": "markdown",
   "metadata": {},
   "source": [
    "### Random Forest Regressor"
   ]
  },
  {
   "cell_type": "code",
   "execution_count": 142,
   "metadata": {},
   "outputs": [
    {
     "name": "stdout",
     "output_type": "stream",
     "text": [
      "MSE: 8.021\n",
      "R-Squared: -17.424999999999997\n"
     ]
    }
   ],
   "source": [
    "from sklearn.ensemble import RandomForestRegressor\n",
    "\n",
    "model_rf = RandomForestRegressor(n_estimators=100)\n",
    "model_rf.fit(X_train, y_train)\n",
    "y_pred_rf = model_rf.predict(X_test)\n",
    "\n",
    "mse_rfr = mean_squared_error(y_test, y_pred_rf)\n",
    "r2_rfr = r2_score(y_test, y_pred_rf)\n",
    "\n",
    "print(f'MSE: {rounded_value(mse_rfr)}')\n",
    "print(f'R-Squared: {rounded_value(r2_rfr)}')"
   ]
  },
  {
   "cell_type": "code",
   "execution_count": 117,
   "metadata": {},
   "outputs": [],
   "source": [
    "# sns.kdeplot(y_test, label='y_test')\n",
    "# sns.kdeplot(y_pred_rf, label='y_pred')\n",
    "# plt.xlabel('Value')\n",
    "# plt.ylabel('Density')\n",
    "# plt.title('Random Forest Regression\\nComparison Between y_test vs y_pred')\n",
    "# plt.legend()\n",
    "# plt.show()"
   ]
  },
  {
   "cell_type": "markdown",
   "metadata": {},
   "source": [
    "### XGBoost Regressor"
   ]
  },
  {
   "cell_type": "code",
   "execution_count": 143,
   "metadata": {},
   "outputs": [
    {
     "name": "stdout",
     "output_type": "stream",
     "text": [
      "MSE: 6.529999999999999\n",
      "R-Squared: 4.3950000000000005\n"
     ]
    }
   ],
   "source": [
    "from xgboost import XGBRegressor\n",
    "\n",
    "model_xgboost = XGBRegressor(n_estimators=100, max_depth=3, learning_rate=0.1)\n",
    "model_xgboost.fit(X_train, y_train)\n",
    "y_pred_xgboost = model_xgboost.predict(X_test)\n",
    "\n",
    "# Hitung nilai MSE pada set pengujian\n",
    "mse_xgbr = mean_squared_error(y_test, y_pred_xgboost)\n",
    "r2_xgbr = r2_score(y_test, y_pred_xgboost)\n",
    "\n",
    "print(f'MSE: {rounded_value(mse_xgbr)}')\n",
    "print(f'R-Squared: {rounded_value(r2_xgbr)}')"
   ]
  },
  {
   "cell_type": "code",
   "execution_count": 119,
   "metadata": {},
   "outputs": [],
   "source": [
    "# sns.kdeplot(y_test, label='y_test')\n",
    "# sns.kdeplot(y_pred_xgboost, label='y_pred')\n",
    "# plt.xlabel('Value')\n",
    "# plt.ylabel('Density')\n",
    "# plt.title('XGBoost Regressor\\nComparison Between y_test vs y_pred')\n",
    "# plt.legend()\n",
    "# plt.show()"
   ]
  },
  {
   "cell_type": "markdown",
   "metadata": {},
   "source": [
    "### SVR (Support Vector Regressor)"
   ]
  },
  {
   "cell_type": "code",
   "execution_count": 144,
   "metadata": {},
   "outputs": [
    {
     "name": "stdout",
     "output_type": "stream",
     "text": [
      "MSE: 6.517\n",
      "R-Squared: 4.585\n"
     ]
    }
   ],
   "source": [
    "from sklearn.svm import SVR\n",
    "\n",
    "model_svm = SVR(kernel='linear')\n",
    "model_svm.fit(X_train, y_train)\n",
    "y_pred_svr = model_svm.predict(X_test)\n",
    "\n",
    "# Hitung nilai MSE pada set pengujian\n",
    "mse_svr = mean_squared_error(y_test, y_pred_svr)\n",
    "r2_svr = r2_score(y_test, y_pred_svr)\n",
    "\n",
    "print(f'MSE: {rounded_value(mse_svr)}')\n",
    "print(f'R-Squared: {rounded_value(r2_svr)}')"
   ]
  },
  {
   "cell_type": "code",
   "execution_count": 121,
   "metadata": {},
   "outputs": [],
   "source": [
    "# sns.kdeplot(y_test, label='y_test')\n",
    "# sns.kdeplot(y_pred_svr, label='y_pred')\n",
    "# plt.xlabel('Value')\n",
    "# plt.ylabel('Density')\n",
    "# plt.title('Support Vector Regressor\\nComparison Between y_test vs y_pred')\n",
    "# plt.legend()\n",
    "# plt.show()"
   ]
  },
  {
   "cell_type": "markdown",
   "metadata": {},
   "source": [
    "### KNN Regressor"
   ]
  },
  {
   "cell_type": "code",
   "execution_count": 145,
   "metadata": {},
   "outputs": [
    {
     "name": "stdout",
     "output_type": "stream",
     "text": [
      "MSE: 7.720000000000001\n",
      "R-Squared: -13.028999999999998\n"
     ]
    }
   ],
   "source": [
    "from sklearn.neighbors import KNeighborsRegressor\n",
    "\n",
    "model_knn = KNeighborsRegressor(n_neighbors=5)\n",
    "model_knn.fit(X_train, y_train)\n",
    "y_pred_knn = model_knn.predict(X_test)\n",
    "\n",
    "# Hitung nilai MSE pada set pengujian\n",
    "mse_knn = mean_squared_error(y_test, y_pred_knn)\n",
    "r2_knn = r2_score(y_test, y_pred_knn)\n",
    "\n",
    "print(f'MSE: {rounded_value(mse_knn)}')\n",
    "print(f'R-Squared: {rounded_value(r2_knn)}')"
   ]
  },
  {
   "cell_type": "code",
   "execution_count": 123,
   "metadata": {},
   "outputs": [],
   "source": [
    "# sns.kdeplot(y_test, label='y_test')\n",
    "# sns.kdeplot(y_pred_knn, label='y_pred')\n",
    "# plt.xlabel('Value')\n",
    "# plt.ylabel('Density')\n",
    "# plt.title('KNN Regressor\\nComparison Between y_test vs y_pred')\n",
    "# plt.legend()\n",
    "# plt.show()"
   ]
  }
 ],
 "metadata": {
  "kernelspec": {
   "display_name": "Python 3",
   "language": "python",
   "name": "python3"
  },
  "language_info": {
   "codemirror_mode": {
    "name": "ipython",
    "version": 3
   },
   "file_extension": ".py",
   "mimetype": "text/x-python",
   "name": "python",
   "nbconvert_exporter": "python",
   "pygments_lexer": "ipython3",
   "version": "3.10.7"
  }
 },
 "nbformat": 4,
 "nbformat_minor": 2
}
